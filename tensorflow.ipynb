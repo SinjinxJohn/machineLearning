{
 "cells": [
  {
   "cell_type": "code",
   "execution_count": 30,
   "metadata": {},
   "outputs": [],
   "source": [
    "import pandas as pd\n",
    "import numpy as np\n",
    "import sklearn\n",
    "from sklearn import linear_model\n",
    "from sklearn.utils import shuffle\n",
    "import pickle\n",
    "import matplotlib.pyplot as plt\n",
    "from matplotlib import style\n",
    "\n",
    "\n"
   ]
  },
  {
   "cell_type": "code",
   "execution_count": 31,
   "metadata": {},
   "outputs": [
    {
     "name": "stdout",
     "output_type": "stream",
     "text": [
      "  school sex  age address famsize Pstatus  Medu  Fedu     Mjob      Fjob  ...  \\\n",
      "0     GP   F   18       U     GT3       A     4     4  at_home   teacher  ...   \n",
      "1     GP   F   17       U     GT3       T     1     1  at_home     other  ...   \n",
      "2     GP   F   15       U     LE3       T     1     1  at_home     other  ...   \n",
      "3     GP   F   15       U     GT3       T     4     2   health  services  ...   \n",
      "4     GP   F   16       U     GT3       T     3     3    other     other  ...   \n",
      "\n",
      "  famrel freetime  goout  Dalc  Walc health absences  G1  G2  G3  \n",
      "0      4        3      4     1     1      3        6   5   6   6  \n",
      "1      5        3      3     1     1      3        4   5   5   6  \n",
      "2      4        3      2     2     3      3       10   7   8  10  \n",
      "3      3        2      2     1     1      5        2  15  14  15  \n",
      "4      4        3      2     1     2      5        4   6  10  10  \n",
      "\n",
      "[5 rows x 33 columns]\n"
     ]
    }
   ],
   "source": [
    "data = pd.read_csv(\"student-mat.csv\",sep=';')\n",
    "print(data.head())"
   ]
  },
  {
   "cell_type": "code",
   "execution_count": 32,
   "metadata": {},
   "outputs": [
    {
     "name": "stdout",
     "output_type": "stream",
     "text": [
      "   G1  G2  G3  absences  studytime  traveltime  freetime  health\n",
      "0   5   6   6         6          2           2         3       3\n",
      "1   5   5   6         4          2           1         3       3\n",
      "2   7   8  10        10          2           1         3       3\n",
      "3  15  14  15         2          3           1         2       5\n",
      "4   6  10  10         4          2           1         3       5\n"
     ]
    }
   ],
   "source": [
    "data = data[['G1','G2','G3','absences','studytime','traveltime','freetime','health']]\n",
    "print(data.head())"
   ]
  },
  {
   "cell_type": "code",
   "execution_count": 33,
   "metadata": {},
   "outputs": [
    {
     "name": "stderr",
     "output_type": "stream",
     "text": [
      "/tmp/ipykernel_4858/1855964525.py:2: FutureWarning: In a future version of pandas all arguments of DataFrame.drop except for the argument 'labels' will be keyword-only.\n",
      "  x = np.array(data.drop([predict],1))\n"
     ]
    }
   ],
   "source": [
    "predict = \"G3\"\n",
    "x = np.array(data.drop([predict],1))\n",
    "y = np.array(data[predict])\n"
   ]
  },
  {
   "cell_type": "code",
   "execution_count": 34,
   "metadata": {},
   "outputs": [
    {
     "name": "stdout",
     "output_type": "stream",
     "text": [
      "0.8810318505351874\n"
     ]
    }
   ],
   "source": [
    "best = 0\n",
    "for i in range(30):\n",
    "    linear = linear_model.LinearRegression()\n",
    "linear.fit(x_train,y_train)\n",
    "acc  = linear.score(x_test,y_test)\n",
    "print(acc)\n",
    "if(acc>best):\n",
    "    best=acc\n",
    "    with open(\"studentmodel.pickle\",'wb') as f:\n",
    "        pickle.dump(linear,f)\n",
    "\n"
   ]
  },
  {
   "cell_type": "code",
   "execution_count": 36,
   "metadata": {},
   "outputs": [
    {
     "name": "stdout",
     "output_type": "stream",
     "text": [
      "7.718228548517899 [10  8 10  2  2  4  2] 8\n",
      "11.034087676470795 [13 11  3  2  1  5  4] 11\n",
      "11.50443568337367 [12 11 16  1  2  5  2] 12\n",
      "9.021072665181652 [11  9 14  2  1  5  2] 9\n",
      "5.072478775277619 [7 6 0 1 1 3 5] 0\n",
      "14.214263675623341 [14 14  2  1  1  3  5] 14\n",
      "9.915023341381445 [10 10 17  2  1  5  1] 10\n",
      "3.851315278827908 [6 5 4 2 1 3 4] 6\n",
      "14.98055964662798 [14 15  0  2  1  3  5] 15\n",
      "10.689371067046233 [11 11  4  2  1  3  5] 11\n",
      "11.979698805772443 [13 12  0  1  1  3  5] 12\n",
      "13.974239274085795 [15 14  2  3  1  2  5] 15\n",
      "11.751641901901243 [14 12  6  4  1  2  4] 13\n",
      "12.226131567574155 [14 12  8  2  1  4  3] 12\n",
      "11.82848363263312 [12 12  2  1  1  2  5] 11\n",
      "13.606389717363102 [11 14  6  1  1  3  1] 14\n",
      "6.733547752826995 [ 7  7 14  1  1  5  4] 5\n",
      "10.921717980128404 [13 11  8  3  1  4  3] 11\n",
      "8.417131163544335 [ 6  9 14  1  1  2  5] 8\n",
      "11.125887324678082 [12 11 11  2  1  3  5] 11\n",
      "8.86589018615496 [10  9 10  2  1  4  5] 10\n",
      "12.673344450457735 [16 12  8  1  1  2  5] 13\n",
      "9.409262785581952 [10 10  6  4  2  3  5] 11\n",
      "18.88584765319743 [17 18 21  2  1  1  2] 18\n",
      "12.610311162815659 [11 13  2  2  1  3  5] 13\n",
      "11.605436500731834 [12 12  2  3  1  3  5] 11\n",
      "18.393732353563642 [18 18  5  3  1  3  2] 19\n",
      "8.6201072190542 [10  9  4  2  1  4  5] 11\n",
      "16.202249662616076 [16 16  2  2  1  3  3] 17\n",
      "7.408167835947985 [8 8 2 1 2 5 3] 10\n",
      "14.680348080671218 [13 15  0  3  1  4  4] 15\n",
      "10.194662556803353 [ 9  9 56  2  1  3  1] 8\n",
      "14.84709529814951 [13 15  2  2  2  3  3] 16\n",
      "12.686926716599942 [13 13  0  3  2  2  5] 13\n",
      "15.730700678341298 [16 15 11  2  1  3  5] 15\n",
      "10.372305506615778 [11 11  0  3  1  3  5] 10\n",
      "12.653825303082085 [14 13  2  2  1  2  1] 13\n",
      "5.4122801709075485 [ 7  6 10  2  1  4  5] 6\n",
      "5.6396401579136874 [ 8  6 18  2  1  1  5] 7\n",
      "16.44284380296343 [18 16  0  3  2  3  4] 16\n"
     ]
    }
   ],
   "source": [
    "predictions = linear.predict(x_test)\n",
    "for x in range(len(predictions)):\n",
    "    print(predictions[x],x_test[x],y_test[x])"
   ]
  }
 ],
 "metadata": {
  "kernelspec": {
   "display_name": "Python 3",
   "language": "python",
   "name": "python3"
  },
  "language_info": {
   "codemirror_mode": {
    "name": "ipython",
    "version": 3
   },
   "file_extension": ".py",
   "mimetype": "text/x-python",
   "name": "python",
   "nbconvert_exporter": "python",
   "pygments_lexer": "ipython3",
   "version": "3.10.7"
  },
  "orig_nbformat": 4,
  "vscode": {
   "interpreter": {
    "hash": "916dbcbb3f70747c44a77c7bcd40155683ae19c65e1c03b4aa3499c5328201f1"
   }
  }
 },
 "nbformat": 4,
 "nbformat_minor": 2
}
